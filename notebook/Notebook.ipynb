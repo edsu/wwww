{
 "cells": [
  {
   "cell_type": "markdown",
   "metadata": {},
   "source": [
    "# Inspecting WARC\n",
    "\n",
    "In this notebook we're going to use the Python [warcio](https://github.com/webrecorder/warcio) library to examine a [WARC](https://en.wikipedia.org/wiki/Web_ARChive) file. This particular WARC file was generated for the [Technoromanticism class blog](http://mith.umd.edu/eng738T/) Wordpress site using [wget](https://www.gnu.org/software/wget/):\n",
    "\n",
    "```\n",
    "wget --mirror --warc-file eng738T --no-parent http://mith.umd.edu/eng738T/\n",
    "```\n",
    " \n",
    "<img src=\"images/website.png\" style=\"width: 70%; border: thin solid #ccc;\">\n",
    "\n",
    "The goal here isn't to learn how to generate a WARC file but to learn a little about the structure of a WARC file, and how to read it with Python."
   ]
  },
  {
   "cell_type": "markdown",
   "metadata": {},
   "source": [
    "## Imports\n",
    "\n",
    "First we need to import some things to help us work with the WARC data. The first thing we need is [WebRecorder](https://webrecorder.io)'s [warcio](https://github.com/webrecorder/warcio) library that makes it possible to read and write WARC files from Python. We're going to be reading WARC data so we need to import the ArchiveIterator class that lets us walk through each record in a WARC file."
   ]
  },
  {
   "cell_type": "code",
   "execution_count": 1,
   "metadata": {
    "collapsed": true
   },
   "outputs": [],
   "source": [
    "from warcio.archiveiterator import ArchiveIterator"
   ]
  },
  {
   "cell_type": "markdown",
   "metadata": {},
   "source": [
    "We're going to be looking at links in HTML pages so we'll need a good HTML parser like [BeautifulSoup](https://www.crummy.com/software/BeautifulSoup/bs4/doc/#) for parsing the HTML. Python also comes with a handy [urlparse](https://docs.python.org/3.6/library/urllib.parse.html#urllib.parse.urlparse) function for parsing URLs:"
   ]
  },
  {
   "cell_type": "code",
   "execution_count": 2,
   "metadata": {
    "collapsed": true
   },
   "outputs": [],
   "source": [
    "from bs4 import BeautifulSoup\n",
    "from urllib.parse import urlparse"
   ]
  },
  {
   "cell_type": "markdown",
   "metadata": {},
   "source": [
    "## Count Hostnames\n",
    "\n",
    "Now that we've loaded the libraries we need let's create a dictionary to keep track of the hostnames we find in links on the website."
   ]
  },
  {
   "cell_type": "code",
   "execution_count": 3,
   "metadata": {
    "collapsed": true
   },
   "outputs": [],
   "source": [
    "counts = {}"
   ]
  },
  {
   "cell_type": "markdown",
   "metadata": {},
   "source": [
    "Now let's create a function that will take a WARC record as input and if the record is for an HTML response it will parse the HTML using BeautifulSoup, and then loop through all the anchor tags and count the host names used."
   ]
  },
  {
   "cell_type": "code",
   "execution_count": 4,
   "metadata": {
    "collapsed": true
   },
   "outputs": [],
   "source": [
    "def count_links(record):\n",
    "    if \"html\" not in record.http_headers.get(\"content-type\"):\n",
    "        return\n",
    "    doc = BeautifulSoup(record.raw_stream, \"lxml\")\n",
    "    for link in doc.select(\"a\"):\n",
    "        url = urlparse(link[\"href\"])\n",
    "        counts[url.hostname] = counts.get(url.hostname, 0) + 1"
   ]
  },
  {
   "cell_type": "markdown",
   "metadata": {},
   "source": [
    "And now we can open up our WARC file and iterate through all the records. We are only interested in counting the urls the responses."
   ]
  },
  {
   "cell_type": "code",
   "execution_count": null,
   "metadata": {
    "collapsed": false
   },
   "outputs": [],
   "source": [
    "for record in ArchiveIterator(open(\"eng738T.warc.gz\", \"rb\")):\n",
    "    if record.rec_type == \"response\":\n",
    "        count_links(record)"
   ]
  },
  {
   "cell_type": "code",
   "execution_count": 6,
   "metadata": {
    "collapsed": false
   },
   "outputs": [
    {
     "name": "stdout",
     "output_type": "stream",
     "text": [
      "{'mith.umd.edu': 1387127, 'www.wdl.org': 7, 'upload.wikimedia.org': 8, 'www.aoc.gov': 7, 'www.imdb.com': 7, 'www.blakearchive.org': 63, 'twitter.com': 6, None: 94, 'wordpress.org': 68, 'shelleygodwinarchive.org': 71, 'www.rc.umd.edu': 73, 'elms.umd.edu': 68, 'www.archive.org': 68, 'chronicle.com': 68, 'www.nattywp.com': 68, 'www.umd.edu': 1, 'www.elms.umd.edu': 1, 'www.tei-c.org': 3, 'digitalliterature.net': 4, 'journals.tdl.org': 1, 'juxtacommons.org': 1, 'web.mit.edu': 3, 'pmc.iath.virginia.edu': 1, 'www.heise.de': 1, 'www.deenalarsen.net': 3, 'gaslight.mtroyal.ca': 1, 'www.stanford.edu': 2, 'deoxy.org': 1, 'www.women.it': 1, 'muse.jhu.edu': 1, 'www.lacan.com': 1, 'www.gutenberg.org': 2, 'www.wsu.edu': 1, 'uwf.edu': 1, 'open\\r\\n002813\\r\\nobjects.blogspot.com': 1, 'menus.nypl.org': 1, 'transcription.si.edu': 1, 'www.galaxyzoo.org': 1, 'www.infiniteulysses.com': 1, 'en.gravatar.com': 1, 'twinery.org': 9, 'www.auntiepixelante.com': 3, 'selectadecision.info': 3, 'electricopolis.net': 3, 'www.nytimes.com': 3, 'ginsbergblog.blogspot.com': 11, 'blakearchive.wordpress.com': 3, 'paj.muohio.edu': 1, 'en.wikipedia.org': 3, 'www.critical-theory.com': 1, 'www.bbc.com': 1, 'boingboing.net': 4, 'www.gearfuse.com': 1, 'www.youtube.com': 10, 'www.si.edu': 1, 'poetry.about.com': 1, 'www.literaturegeek.com': 7, 'www.annhamiltonstudio.com': 1, 'grandtextauto.org': 1, 'interfaithradio.org': 1, 'refleks.eu': 2, 'www.eastgate.com': 2, 'www.yorku.ca': 2, 'urban3zero.com': 2, 'wetellstories.co.uk': 2, 'www.quickonlinetips.com': 2, 'www.readwriteweb.com': 4, 'laflood.citychaos.com': 2, 'eliterature.org': 2, 'collection.eliterature.org': 4, 'www.techcentral.co.za': 1, 'www.wordle.net': 1, 'wiki.english.ucsb.edu': 3, 'digitalresearchtools.pbworks.com': 2, 'encrypted.google.com': 1, 'searchhash.com': 1, 'wordle.net': 1, 'voyeurtools.org': 1, 'hermeneuti.ca': 1, 'dirt.projectbamboo.org': 2, 'python.org': 1, 'www.strathcon.com': 1, 'digital19thcentury.wordpress.com': 2, 'www.lmda.org': 2, 'aszym.blogspot.com': 2, 'actorstheatre.org': 2, 'www.wfpl.org': 2, 'dsl.richmond.edu': 2, 'americantheatrearchiveproject.org': 2, 'www.suilebhan.com': 2, 'www.howlround.com': 2, 'www.livestream.com': 2, 'global.oup.com': 1, '4.bp.blogspot.com': 1, 'flavorwire.files.wordpress.com': 1, '24.media.tumblr.com': 1, 'cdn.culturemass.com': 1, '2.bp.blogspot.com': 1, 'img2.imagesbn.com': 1, 'agrippa.english.ucsb.edu': 1, 'www.oxonianreview.org': 1, 'stevenejones.org': 1, 't.co': 1, 'amandavisconti.github.com': 1, 'digitalhumanitiesnow.org': 1}\n"
     ]
    }
   ],
   "source": [
    "print(counts)"
   ]
  },
  {
   "cell_type": "markdown",
   "metadata": {},
   "source": [
    "That's a bit of a jumble so let's print out the hostnames in order of how many links they have:"
   ]
  },
  {
   "cell_type": "code",
   "execution_count": 18,
   "metadata": {
    "collapsed": false
   },
   "outputs": [
    {
     "name": "stdout",
     "output_type": "stream",
     "text": [
      "mith.umd.edu                          1387127\n",
      "None                                       94\n",
      "www.rc.umd.edu                             73\n",
      "shelleygodwinarchive.org                   71\n",
      "wordpress.org                              68\n",
      "elms.umd.edu                               68\n",
      "www.archive.org                            68\n",
      "chronicle.com                              68\n",
      "www.nattywp.com                            68\n",
      "www.blakearchive.org                       63\n",
      "ginsbergblog.blogspot.com                  11\n",
      "www.youtube.com                            10\n",
      "twinery.org                                 9\n",
      "upload.wikimedia.org                        8\n",
      "www.wdl.org                                 7\n",
      "www.aoc.gov                                 7\n",
      "www.imdb.com                                7\n",
      "www.literaturegeek.com                      7\n",
      "twitter.com                                 6\n",
      "digitalliterature.net                       4\n",
      "boingboing.net                              4\n",
      "www.readwriteweb.com                        4\n",
      "collection.eliterature.org                  4\n",
      "www.tei-c.org                               3\n",
      "web.mit.edu                                 3\n",
      "www.deenalarsen.net                         3\n",
      "www.auntiepixelante.com                     3\n",
      "selectadecision.info                        3\n",
      "electricopolis.net                          3\n",
      "www.nytimes.com                             3\n",
      "blakearchive.wordpress.com                  3\n",
      "en.wikipedia.org                            3\n",
      "wiki.english.ucsb.edu                       3\n",
      "www.stanford.edu                            2\n",
      "www.gutenberg.org                           2\n",
      "refleks.eu                                  2\n",
      "www.eastgate.com                            2\n",
      "www.yorku.ca                                2\n",
      "urban3zero.com                              2\n",
      "wetellstories.co.uk                         2\n",
      "www.quickonlinetips.com                     2\n",
      "laflood.citychaos.com                       2\n",
      "eliterature.org                             2\n",
      "digitalresearchtools.pbworks.com            2\n",
      "dirt.projectbamboo.org                      2\n",
      "digital19thcentury.wordpress.com            2\n",
      "www.lmda.org                                2\n",
      "aszym.blogspot.com                          2\n",
      "actorstheatre.org                           2\n",
      "www.wfpl.org                                2\n",
      "dsl.richmond.edu                            2\n",
      "americantheatrearchiveproject.org           2\n",
      "www.suilebhan.com                           2\n",
      "www.howlround.com                           2\n",
      "www.livestream.com                          2\n",
      "www.umd.edu                                 1\n",
      "www.elms.umd.edu                            1\n",
      "journals.tdl.org                            1\n",
      "juxtacommons.org                            1\n",
      "pmc.iath.virginia.edu                       1\n",
      "www.heise.de                                1\n",
      "gaslight.mtroyal.ca                         1\n",
      "deoxy.org                                   1\n",
      "www.women.it                                1\n",
      "muse.jhu.edu                                1\n",
      "www.lacan.com                               1\n",
      "www.wsu.edu                                 1\n",
      "uwf.edu                                     1\n",
      "open\r\n",
      "002813\r\n",
      "objects.blogspot.com          1\n",
      "menus.nypl.org                              1\n",
      "transcription.si.edu                        1\n",
      "www.galaxyzoo.org                           1\n",
      "www.infiniteulysses.com                     1\n",
      "en.gravatar.com                             1\n",
      "paj.muohio.edu                              1\n",
      "www.critical-theory.com                     1\n",
      "www.bbc.com                                 1\n",
      "www.gearfuse.com                            1\n",
      "www.si.edu                                  1\n",
      "poetry.about.com                            1\n",
      "www.annhamiltonstudio.com                   1\n",
      "grandtextauto.org                           1\n",
      "interfaithradio.org                         1\n",
      "www.techcentral.co.za                       1\n",
      "www.wordle.net                              1\n",
      "encrypted.google.com                        1\n",
      "searchhash.com                              1\n",
      "wordle.net                                  1\n",
      "voyeurtools.org                             1\n",
      "hermeneuti.ca                               1\n",
      "python.org                                  1\n",
      "www.strathcon.com                           1\n",
      "global.oup.com                              1\n",
      "4.bp.blogspot.com                           1\n",
      "flavorwire.files.wordpress.com              1\n",
      "24.media.tumblr.com                         1\n",
      "cdn.culturemass.com                         1\n",
      "2.bp.blogspot.com                           1\n",
      "img2.imagesbn.com                           1\n",
      "agrippa.english.ucsb.edu                    1\n",
      "www.oxonianreview.org                       1\n",
      "stevenejones.org                            1\n",
      "t.co                                        1\n",
      "amandavisconti.github.com                   1\n",
      "digitalhumanitiesnow.org                    1\n"
     ]
    }
   ],
   "source": [
    "for hostname in sorted(counts.keys(), key=counts.get, reverse=True):\n",
    "    print(\"%-35s  %8i\" %(hostname, counts[hostname]))"
   ]
  },
  {
   "cell_type": "code",
   "execution_count": null,
   "metadata": {
    "collapsed": true
   },
   "outputs": [],
   "source": []
  }
 ],
 "metadata": {
  "kernelspec": {
   "display_name": "Python 3",
   "language": "python",
   "name": "python3"
  },
  "language_info": {
   "codemirror_mode": {
    "name": "ipython",
    "version": 3
   },
   "file_extension": ".py",
   "mimetype": "text/x-python",
   "name": "python",
   "nbconvert_exporter": "python",
   "pygments_lexer": "ipython3",
   "version": "3.6.0"
  }
 },
 "nbformat": 4,
 "nbformat_minor": 2
}
